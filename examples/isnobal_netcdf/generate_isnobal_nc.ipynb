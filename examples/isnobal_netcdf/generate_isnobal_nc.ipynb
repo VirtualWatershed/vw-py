{
 "cells": [
  {
   "cell_type": "markdown",
   "metadata": {},
   "source": [
    "## Initialize an iSNOBAL- and VW-ready dataset\n",
    "\n",
    "We'll use vw-py's utilities to initialize a new isnobal- and vw-ready dataset. In order to build our dataset we need some information: \n",
    "    \n",
    "* Start/end date\n",
    "* The extreme northing and easting values (samps and bands in IPW speak)\n",
    "* The resolution in northing and easting directions (dsamp/dline)\n",
    "* The number of cells in both northing and easting driections\n",
    "\n",
    "The example below is adapted from the [vw-py unit tests](https://github.com/VirtualWatershed/vw-py/blob/master/vwpy/test/test_netcdf.py#L427). We'll use the function [ncgen_from_template](https://github.com/VirtualWatershed/vw-py/blob/master/vwpy/netcdf.py) which can be found in the `vwpy.netcdf` module.\n",
    "\n",
    "Briefly, this works by first building a CDL file from a [Jinja2](jinja.pocoo.org) template. See [CDL Syntax](http://www.unidata.ucar.edu/software/netcdf/netcdf/CDL-Syntax.html) and the [ncgen man page](http://www.unidata.ucar.edu/software/netcdf/netcdf/ncgen.html) for more CDL info. Then `ncgen_from_template` calls the command line `ncgen` function and loads the newly-generated dataset into Python."
   ]
  },
  {
   "cell_type": "code",
   "execution_count": 73,
   "metadata": {
    "collapsed": true
   },
   "outputs": [],
   "source": [
    "# first, define our isnobal spatiotemporal parameters\n",
    "isnobal_params = dict(\n",
    "    # generate a 10x8x(n_timesteps) grid for each variable\n",
    "    nlines=10, nsamps=8,\n",
    "    # with a resolution of 1.0m each; samp is north-south, so it's negative\n",
    "    dline=1.0, dsamp=-1.0,\n",
    "    # set base fake origin (easting, northing) = (442, 88)\n",
    "    bline=442, bsamp=88,\n",
    "    # enter start time and timestep; janky, but need to use '01' and '00' \n",
    "    # to get proper ISO 8601 formatting if < 10\n",
    "    year=2008, month=10, day='22', hour='05', dt='hours'\n",
    ")"
   ]
  },
  {
   "cell_type": "code",
   "execution_count": 74,
   "metadata": {
    "collapsed": false
   },
   "outputs": [
    {
     "name": "stdout",
     "output_type": "stream",
     "text": [
      "/tmp/c6c609b0-e5d8-4a44-a18b-2af0132e4dc9.cdl\n",
      "{'bline': 442, 'hour': '05', 'nsamps': 8, 'month': 10, 'bsamp': 88, 'dsamp': -1.0, 'year': 2008, 'dt': 'hours', 'nlines': 10, 'day': '22', 'dline': 1.0}\n"
     ]
    }
   ],
   "source": [
    "# now generate our netcdf\n",
    "import sys, os\n",
    "sys.path.append('../../')\n",
    "if os.path.exists('test.nc'):\n",
    "    os.remove('test.nc')\n",
    "\n",
    "from vwpy.netcdf import ncgen_from_template\n",
    "\n",
    "# don't need path to the template, that's already set to be 'vwpy/cdl'\n",
    "nc = ncgen_from_template('ipw_in_template.cdl', \n",
    "                         'test.nc', **isnobal_params)\n",
    "\n",
    "print isnobal_params"
   ]
  },
  {
   "cell_type": "markdown",
   "metadata": {},
   "source": [
    "#### Next: populate the netCDF with data\n",
    "\n",
    "We'll insert data into just a few variables for an example. We can see what variables are now available either by inspecting the [CDL template](https://github.com/VirtualWatershed/vw-py/blob/master/vwpy/cdl/ipw_in_template.cdl) we just used, or we can inspect the Dataset's `variable` attribute, as shown below. \n",
    "\n",
    "One of the powerful features of netCDF is to transparently store data of any dimension. Some of our variables (time, easting, northing) are 1D. Others, including `z`, or altitude, are 2D variables; that is, they are spatially dependent, but time-independent. Finally, the climate variables that vary every hour and are spatially distributed are 3D arrays. "
   ]
  },
  {
   "cell_type": "code",
   "execution_count": 75,
   "metadata": {
    "collapsed": false
   },
   "outputs": [
    {
     "data": {
      "text/plain": [
       "OrderedDict([(u'time', <netCDF4.Variable at 0x11ae4add0>),\n",
       "             (u'easting', <netCDF4.Variable at 0x11b43def0>),\n",
       "             (u'northing', <netCDF4.Variable at 0x11b43de60>),\n",
       "             (u'lat', <netCDF4.Variable at 0x112857680>),\n",
       "             (u'lon', <netCDF4.Variable at 0x11b2770e0>),\n",
       "             (u'alt', <netCDF4.Variable at 0x11b277200>),\n",
       "             (u'mask', <netCDF4.Variable at 0x11b277290>),\n",
       "             (u'z', <netCDF4.Variable at 0x11b277320>),\n",
       "             (u'z_0', <netCDF4.Variable at 0x11b2773b0>),\n",
       "             (u'z_s', <netCDF4.Variable at 0x11b277440>),\n",
       "             (u'rho', <netCDF4.Variable at 0x11b2774d0>),\n",
       "             (u'T_s_0', <netCDF4.Variable at 0x11b277560>),\n",
       "             (u'T_s', <netCDF4.Variable at 0x11b2775f0>),\n",
       "             (u'h2o_sat', <netCDF4.Variable at 0x11b277680>),\n",
       "             (u'm_pp', <netCDF4.Variable at 0x11b277710>),\n",
       "             (u'percent_snow', <netCDF4.Variable at 0x11b2777a0>),\n",
       "             (u'rho_snow', <netCDF4.Variable at 0x11b277830>),\n",
       "             (u'T_pp', <netCDF4.Variable at 0x11b2778c0>),\n",
       "             (u'I_lw', <netCDF4.Variable at 0x11b277950>),\n",
       "             (u'T_a', <netCDF4.Variable at 0x11b2779e0>),\n",
       "             (u'e_a', <netCDF4.Variable at 0x11b277a70>),\n",
       "             (u'u', <netCDF4.Variable at 0x11b277b00>),\n",
       "             (u'T_g', <netCDF4.Variable at 0x11b277b90>),\n",
       "             (u'S_n', <netCDF4.Variable at 0x11b277c20>)])"
      ]
     },
     "execution_count": 75,
     "metadata": {},
     "output_type": "execute_result"
    }
   ],
   "source": [
    "# first, let's inspect what variables are available to us\n",
    "nc.variables"
   ]
  },
  {
   "cell_type": "code",
   "execution_count": 76,
   "metadata": {
    "collapsed": false
   },
   "outputs": [
    {
     "data": {
      "text/plain": [
       "[u'long_name', u'standard_name']"
      ]
     },
     "execution_count": 76,
     "metadata": {},
     "output_type": "execute_result"
    }
   ],
   "source": [
    "# we can get metadata on any variable by inspecting the ncattrs\n",
    "time = nc.variables['time']\n",
    "time.ncattrs()"
   ]
  },
  {
   "cell_type": "code",
   "execution_count": 77,
   "metadata": {
    "collapsed": false
   },
   "outputs": [
    {
     "data": {
      "text/plain": [
       "u'hours since 2008-10-22T05:00:00'"
      ]
     },
     "execution_count": 77,
     "metadata": {},
     "output_type": "execute_result"
    }
   ],
   "source": [
    "# this is where the date went\n",
    "time.getncattr('standard_name')"
   ]
  },
  {
   "cell_type": "markdown",
   "metadata": {},
   "source": [
    "The standard name above refers to the [CF Conventions](http://cfconventions.org/cf-conventions/v1.6.0/cf-conventions.html) standard name. By using this, other netCDF software tools can interpret the time variable, which unfortunately can only be represented as an integer index.\n",
    "\n",
    "Moving on, we'll now create fake elevation and atmospheric temperature data and insert it into our netcdf."
   ]
  },
  {
   "cell_type": "code",
   "execution_count": 85,
   "metadata": {
    "collapsed": false
   },
   "outputs": [
    {
     "data": {
      "text/plain": [
       "<matplotlib.image.AxesImage at 0x11bd8ba10>"
      ]
     },
     "execution_count": 85,
     "metadata": {},
     "output_type": "execute_result"
    },
    {
     "data": {
      "image/png": "[encoded data removed]",
      "text/plain": [
       "<matplotlib.figure.Figure at 0x11a725e90>"
      ]
     },
     "metadata": {},
     "output_type": "display_data"
    }
   ],
   "source": [
    "# let's create a fake DEM with some random data\n",
    "import numpy as np\n",
    "dem = abs(np.random.rand(isnobal_params['nlines'], isnobal_params['nsamps']))\n",
    "\n",
    "%matplotlib inline\n",
    "import matplotlib.pyplot as plt\n",
    "plt.matshow(dem)"
   ]
  },
  {
   "cell_type": "code",
   "execution_count": 86,
   "metadata": {
    "collapsed": false
   },
   "outputs": [
    {
     "data": {
      "text/plain": [
       "(10, 8)"
      ]
     },
     "execution_count": 86,
     "metadata": {},
     "output_type": "execute_result"
    }
   ],
   "source": [
    "np.shape(dem)"
   ]
  },
  {
   "cell_type": "code",
   "execution_count": 87,
   "metadata": {
    "collapsed": false
   },
   "outputs": [
    {
     "data": {
      "text/plain": [
       "(10, 8)"
      ]
     },
     "execution_count": 87,
     "metadata": {},
     "output_type": "execute_result"
    }
   ],
   "source": [
    "np.shape(nc.variables['z'])"
   ]
  },
  {
   "cell_type": "code",
   "execution_count": 88,
   "metadata": {
    "collapsed": false
   },
   "outputs": [
    {
     "data": {
      "text/plain": [
       "<matplotlib.image.AxesImage at 0x11a9c3410>"
      ]
     },
     "execution_count": 88,
     "metadata": {},
     "output_type": "execute_result"
    },
    {
     "data": {
      "image/png": "[encoded data removed]",
      "text/plain": [
       "<matplotlib.figure.Figure at 0x11a602b50>"
      ]
     },
     "metadata": {},
     "output_type": "display_data"
    }
   ],
   "source": [
    "# use [:] to unpack and assign te values from the dem\n",
    "nc.variables['z'][:] = dem\n",
    "z = nc.variables['z'][:]\n",
    "plt.matshow(z)"
   ]
  },
  {
   "cell_type": "markdown",
   "metadata": {},
   "source": [
    "We see that our fake dem is now contained in the `z` variable of the netcdf. You can optionally also insert the elevation data into the `alt` variable, but mostly the `alt` variable remains unused and is not required for iSNOBAL.\n",
    "\n",
    "Now we'll create a series of 5 (100, 10) random arrays to simulate five timesteps worth of data. We'll assign this to be fake atmospheric temperature."
   ]
  },
  {
   "cell_type": "code",
   "execution_count": 84,
   "metadata": {
    "collapsed": false
   },
   "outputs": [
    {
     "data": {
      "image/png": "[encoded data removed]",
      "text/plain": [
       "<matplotlib.figure.Figure at 0x119b27710>"
      ]
     },
     "metadata": {},
     "output_type": "display_data"
    }
   ],
   "source": [
    "fake_ta = abs(np.random.rand(5, isnobal_params['nlines'], isnobal_params['nsamps']))\n",
    "ta = nc.variables['T_a']  # np.shape(ta) == (0, 100, 10) at this point\n",
    "\n",
    "# ta is a reference to the actual netcdf variable, so we can assign to it\n",
    "ta[:] = fake_ta  # now np.shape(ta) == (5, 100, 10)\n",
    "\n",
    "# double click the image below to enlarge and check they are different\n",
    "f, axs = plt.subplots(1, 5, figsize=(15, 10))\n",
    "\n",
    "for idx, ax in enumerate(axs):\n",
    "    ax.matshow(ta[idx])\n",
    "    ax.set_title('t = ' + str(idx))\n",
    "    "
   ]
  }
 ],
 "metadata": {
  "kernelspec": {
   "display_name": "Python 2",
   "language": "python",
   "name": "python2"
  },
  "language_info": {
   "codemirror_mode": {
    "name": "ipython",
    "version": 2
   },
   "file_extension": ".py",
   "mimetype": "text/x-python",
   "name": "python",
   "nbconvert_exporter": "python",
   "pygments_lexer": "ipython2",
   "version": "2.7.10"
  }
 },
 "nbformat": 4,
 "nbformat_minor": 0
}
