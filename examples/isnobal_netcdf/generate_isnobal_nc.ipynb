{
 "cells": [
  {
   "cell_type": "markdown",
   "metadata": {},
   "source": [
    "## Initialize an iSNOBAL- and VW-ready dataset\n",
    "\n",
    "We'll use vw-py's utilities to initialize a new isnobal- and vw-ready dataset. In order to build our dataset we need some information: \n",
    "    \n",
    "* Start/end date\n",
    "* The extreme northing and easting values (samps and bands in IPW speak)\n",
    "* The resolution in northing and easting directions (dsamp/dline)\n",
    "* The number of cells in both northing and easting driections\n",
    "\n",
    "The example below is adapted from the [vw-py unit tests](https://github.com/VirtualWatershed/vw-py/blob/master/vwpy/test/test_netcdf.py#L427). We'll use the function [ncgen_from_template](https://github.com/VirtualWatershed/vw-py/blob/master/vwpy/netcdf.py) which can be found in the `vwpy.netcdf` module.\n",
    "\n",
    "Briefly, this works by first building a CDL file from a [Jinja2](jinja.pocoo.org) template. See [CDL Syntax](http://www.unidata.ucar.edu/software/netcdf/netcdf/CDL-Syntax.html) and the [ncgen man page](http://www.unidata.ucar.edu/software/netcdf/netcdf/ncgen.html) for more CDL info. Then `ncgen_from_template` calls the command line `ncgen` function and loads the newly-generated dataset into Python."
   ]
  },
  {
   "cell_type": "code",
   "execution_count": 95,
   "metadata": {
    "collapsed": true
   },
   "outputs": [],
   "source": [
    "# first, define our isnobal spatiotemporal parameters\n",
    "isnobal_params = dict(\n",
    "    # generate a 100x10x(n_timesteps) grid for each variable\n",
    "    nlines=100, nsamps=10,\n",
    "    # with a resolution of 1.0m each; samp is north-south, so it's negative\n",
    "    dline=1.0, dsamp=-1.0,\n",
    "    # set base fake origin (easting, northing) = (442, 88)\n",
    "    bline=442, bsamp=88,\n",
    "    # enter start time and timestep; janky, but need to use '01' and '00' \n",
    "    # to get proper ISO 8601 formatting if < 10\n",
    "    year=2008, month=10, day='22', hour='05', dt='hours'\n",
    ")"
   ]
  },
  {
   "cell_type": "code",
   "execution_count": 96,
   "metadata": {
    "collapsed": false
   },
   "outputs": [
    {
     "name": "stdout",
     "output_type": "stream",
     "text": [
      "/tmp/cbdfe95b-53be-4481-b5ab-6c8dca2c52cd.cdl\n",
      "{'bline': 442, 'hour': '05', 'nsamps': 10, 'month': 10, 'bsamp': 88, 'dsamp': -1.0, 'year': 2008, 'dt': 'hours', 'nlines': 100, 'day': '22', 'dline': 1.0}\n"
     ]
    }
   ],
   "source": [
    "# now generate our netcdf\n",
    "import sys, os\n",
    "sys.path.append('../../')\n",
    "if os.path.exists('test.nc'):\n",
    "    os.remove('test.nc')\n",
    "\n",
    "from vwpy.netcdf import ncgen_from_template\n",
    "\n",
    "# don't need path to the template, that's already set to be 'vwpy/cdl'\n",
    "nc = ncgen_from_template('ipw_in_template.cdl', \n",
    "                         'test.nc', **isnobal_params)\n",
    "\n",
    "print isnobal_params"
   ]
  },
  {
   "cell_type": "markdown",
   "metadata": {},
   "source": [
    "#### Next: populate the netCDF with data\n",
    "\n",
    "We'll insert data into just a few variables for an example. We can see what variables are now available either by inspecting the [CDL template](https://github.com/VirtualWatershed/vw-py/blob/master/vwpy/cdl/ipw_in_template.cdl) we just used, or we can inspect the Dataset's `variable` attribute, as shown below. \n",
    "\n",
    "One of the powerful features of netCDF is to transparently store data of any dimension. Some of our variables (time, easting, northing) are 1D. Others, including `z`, or altitude, are 2D variables; that is, they are spatially dependent, but time-independent. Finally, the climate variables that vary every hour and are spatially distributed are 3D arrays. "
   ]
  },
  {
   "cell_type": "code",
   "execution_count": 97,
   "metadata": {
    "collapsed": false
   },
   "outputs": [
    {
     "data": {
      "text/plain": [
       "OrderedDict([(u'time', <netCDF4.Variable at 0x10e9fb3b0>),\n",
       "             (u'easting', <netCDF4.Variable at 0x10e9fb4d0>),\n",
       "             (u'northing', <netCDF4.Variable at 0x10e9fb560>),\n",
       "             (u'lat', <netCDF4.Variable at 0x10e9fb5f0>),\n",
       "             (u'lon', <netCDF4.Variable at 0x10e9fb680>),\n",
       "             (u'alt', <netCDF4.Variable at 0x10e9fb710>),\n",
       "             (u'mask', <netCDF4.Variable at 0x10e9fb7a0>),\n",
       "             (u'z', <netCDF4.Variable at 0x10e9fb830>),\n",
       "             (u'z_0', <netCDF4.Variable at 0x10e9fb8c0>),\n",
       "             (u'z_s', <netCDF4.Variable at 0x10e9fb950>),\n",
       "             (u'rho', <netCDF4.Variable at 0x10e9fb9e0>),\n",
       "             (u'T_s_0', <netCDF4.Variable at 0x10e9fba70>),\n",
       "             (u'T_s', <netCDF4.Variable at 0x10e9fbb00>),\n",
       "             (u'h2o_sat', <netCDF4.Variable at 0x10e9fbb90>),\n",
       "             (u'm_pp', <netCDF4.Variable at 0x10e9fbc20>),\n",
       "             (u'percent_snow', <netCDF4.Variable at 0x10e9fbcb0>),\n",
       "             (u'rho_snow', <netCDF4.Variable at 0x10e9fbd40>),\n",
       "             (u'T_pp', <netCDF4.Variable at 0x10e9fbdd0>),\n",
       "             (u'I_lw', <netCDF4.Variable at 0x10e9fbe60>),\n",
       "             (u'T_a', <netCDF4.Variable at 0x10e9fbef0>),\n",
       "             (u'e_a', <netCDF4.Variable at 0x10e9fbf80>),\n",
       "             (u'u', <netCDF4.Variable at 0x10e9ed050>),\n",
       "             (u'T_g', <netCDF4.Variable at 0x10e9ed0e0>),\n",
       "             (u'S_n', <netCDF4.Variable at 0x10e9ed170>)])"
      ]
     },
     "execution_count": 97,
     "metadata": {},
     "output_type": "execute_result"
    }
   ],
   "source": [
    "# first, let's inspect what variables are available to us\n",
    "nc.variables"
   ]
  },
  {
   "cell_type": "code",
   "execution_count": 98,
   "metadata": {
    "collapsed": false
   },
   "outputs": [
    {
     "data": {
      "text/plain": [
       "[u'long_name', u'standard_name']"
      ]
     },
     "execution_count": 98,
     "metadata": {},
     "output_type": "execute_result"
    }
   ],
   "source": [
    "# we can get metadata on any variable by inspecting the ncattrs\n",
    "time = nc.variables['time']\n",
    "time.ncattrs()"
   ]
  },
  {
   "cell_type": "code",
   "execution_count": 99,
   "metadata": {
    "collapsed": false
   },
   "outputs": [
    {
     "data": {
      "text/plain": [
       "u'hours since 2008-10-22T05:00:00'"
      ]
     },
     "execution_count": 99,
     "metadata": {},
     "output_type": "execute_result"
    }
   ],
   "source": [
    "# this is where the date went\n",
    "time.getncattr('standard_name')"
   ]
  },
  {
   "cell_type": "markdown",
   "metadata": {},
   "source": [
    "The standard name above refers to the [CF Conventions](http://cfconventions.org/cf-conventions/v1.6.0/cf-conventions.html) standard name. By using this, other netCDF software tools can interpret the time variable, which unfortunately can only be represented as an integer index."
   ]
  },
  {
   "cell_type": "code",
   "execution_count": 100,
   "metadata": {
    "collapsed": false
   },
   "outputs": [
    {
     "data": {
      "text/plain": [
       "[u'data_tstep',\n",
       " u'output_frequency',\n",
       " u'bline',\n",
       " u'bsamp',\n",
       " u'dline',\n",
       " u'dsamp',\n",
       " u'max_z_s_0',\n",
       " u'z_u',\n",
       " u'z_T',\n",
       " u'z_g',\n",
       " u'documentation_link',\n",
       " u'description',\n",
       " u'generated_at',\n",
       " u'bands_name',\n",
       " u'bands_desc',\n",
       " u'exclude_layers']"
      ]
     },
     "execution_count": 100,
     "metadata": {},
     "output_type": "execute_result"
    }
   ],
   "source": [
    "nc.ncattrs()"
   ]
  },
  {
   "cell_type": "code",
   "execution_count": 101,
   "metadata": {
    "collapsed": false
   },
   "outputs": [
    {
     "data": {
      "text/plain": [
       "u'band index represents hours since 2008-10-22T05:00:00'"
      ]
     },
     "execution_count": 101,
     "metadata": {},
     "output_type": "execute_result"
    }
   ],
   "source": [
    "nc.getncattr('bands_desc')"
   ]
  },
  {
   "cell_type": "code",
   "execution_count": 104,
   "metadata": {
    "collapsed": false
   },
   "outputs": [],
   "source": [
    "# let's create a fake DEM with some random data\n",
    "import numpy as np\n",
    "dem = abs(np.random.rand(isnobal_params['nlines'], isnobal_params['nsamps']))\n",
    "\n",
    "import matplotlib.pyplot as plt\n",
    "plt.imshow(dem)\n",
    "plt.show()"
   ]
  },
  {
   "cell_type": "code",
   "execution_count": null,
   "metadata": {
    "collapsed": true
   },
   "outputs": [],
   "source": []
  }
 ],
 "metadata": {
  "kernelspec": {
   "display_name": "Python 2",
   "language": "python",
   "name": "python2"
  },
  "language_info": {
   "codemirror_mode": {
    "name": "ipython",
    "version": 2
   },
   "file_extension": ".py",
   "mimetype": "text/x-python",
   "name": "python",
   "nbconvert_exporter": "python",
   "pygments_lexer": "ipython2",
   "version": "2.7.10"
  }
 },
 "nbformat": 4,
 "nbformat_minor": 0
}
